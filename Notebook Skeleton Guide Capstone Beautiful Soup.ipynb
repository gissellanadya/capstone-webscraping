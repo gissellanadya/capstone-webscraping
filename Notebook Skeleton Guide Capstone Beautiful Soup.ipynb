{
 "cells": [
  {
   "cell_type": "markdown",
   "metadata": {},
   "source": [
    "# Web Scraping, Data Wrangling, and Flask Dashboard (Case Study: IMDB)"
   ]
  },
  {
   "cell_type": "markdown",
   "metadata": {},
   "source": [
    "\n",
    "Greetings all! My name is Gissella Nadya and this is my submission / capstone project for Data Analysis Specialization, specifically in Web Scraping using BeautifulSoup, Data Wrangling, and Implementing to Flask Dashboard. I choose IMDB as my case study because I am passionate about movies and tv shows. So let's start coding!"
   ]
  },
  {
   "cell_type": "markdown",
   "metadata": {},
   "source": [
    "Please make sure you have this library installed in your environment, as we are going to use it:\n",
    "\n",
    "- BeautifulSoup4\n",
    "- Flask\n",
    "- Pandas\n",
    "- Matplotlib"
   ]
  },
  {
   "cell_type": "markdown",
   "metadata": {},
   "source": [
    "\n",
    "\n",
    "## Step 1: Requesting the Data and Creating the BeautifulSoup\n",
    "\n"
   ]
  },
  {
   "cell_type": "markdown",
   "metadata": {},
   "source": [
    "Let's begin the first step with importing all libraries needed for this project, then requesting the web from the site using the  `requests.get` method."
   ]
  },
  {
   "cell_type": "code",
   "execution_count": 1,
   "metadata": {
    "ExecuteTime": {
     "end_time": "2020-01-13T05:12:23.275508Z",
     "start_time": "2020-01-13T05:12:20.009898Z"
    }
   },
   "outputs": [],
   "source": [
    "import requests\n",
    "from bs4 import BeautifulSoup \n",
    "import pandas as pd\n",
    "import matplotlib.pyplot as plt\n",
    "import numpy as np\n",
    "\n",
    "from flask import Flask, render_template\n",
    "from io import BytesIO\n",
    "import base64"
   ]
  },
  {
   "cell_type": "code",
   "execution_count": 2,
   "metadata": {
    "scrolled": true
   },
   "outputs": [],
   "source": [
    "url_get = requests.get('https://www.imdb.com/search/title/?release_date=2019-01-01,2019-12-31')"
   ]
  },
  {
   "cell_type": "markdown",
   "metadata": {},
   "source": [
    "We can use the `___.content[x1:x10]` to see exactly what we get from x1 to x10. x1 and x10 can be input with other numbers. In this case I input 1 and 509 meaning that I get to see the letter from 1 until 509 from the html. This method is also called as slicing, and only used for visualization. "
   ]
  },
  {
   "cell_type": "code",
   "execution_count": 3,
   "metadata": {
    "ExecuteTime": {
     "end_time": "2020-01-13T05:12:23.290648Z",
     "start_time": "2020-01-13T05:12:23.277650Z"
    }
   },
   "outputs": [
    {
     "data": {
      "text/plain": [
       "b'\\n<!DOCTYPE html>\\n<html\\n    xmlns:og=\"http://ogp.me/ns#\"\\n    xmlns:fb=\"http://www.facebook.com/2008/fbml\">\\n    <head>\\n         \\n        <meta charset=\"utf-8\">\\n        <meta http-equiv=\"X-UA-Compatible\" content=\"IE=edge\">\\n\\n    <meta name=\"apple-itunes-app\" content=\"app-id=342792525, app-argument=imdb:///?src=mdot\">\\n\\n\\n\\n        <script type=\"text/javascript\">var IMDbTimer={starttime: new Date().getTime(),pt:\\'java\\'};</script>\\n\\n<script>\\n    if (typeof uet == \\'function\\') {\\n      uet(\"bb\", \"LoadTitle\", {wb: 1})'"
      ]
     },
     "execution_count": 3,
     "metadata": {},
     "output_type": "execute_result"
    }
   ],
   "source": [
    "url_get.content[1:509]"
   ]
  },
  {
   "cell_type": "markdown",
   "metadata": {},
   "source": [
    "Because we as humans cannot see and understand clearly from the visualization above, we use the help of `BeautifulSoup` to transform a complex HTML document into a complex tree of Python objects.\n",
    "\n",
    "Then, we can use `soup.prettify` to see the data nice and clearly :D"
   ]
  },
  {
   "cell_type": "code",
   "execution_count": 4,
   "metadata": {
    "ExecuteTime": {
     "end_time": "2020-01-13T05:12:23.808122Z",
     "start_time": "2020-01-13T05:12:23.292610Z"
    },
    "scrolled": true
   },
   "outputs": [
    {
     "name": "stdout",
     "output_type": "stream",
     "text": [
      "<class 'bs4.BeautifulSoup'>\n"
     ]
    }
   ],
   "source": [
    "soup = BeautifulSoup(url_get.content,\"html.parser\")\n",
    "print(type(soup))"
   ]
  },
  {
   "cell_type": "code",
   "execution_count": 5,
   "metadata": {},
   "outputs": [
    {
     "name": "stdout",
     "output_type": "stream",
     "text": [
      "<!DOCTYPE html>\n",
      "<html xmlns:fb=\"http://www.facebook.com/2008/fbml\" xmlns:og=\"http://ogp.me/ns#\">\n",
      " <head>\n",
      "  <meta charset=\"utf-8\"/>\n",
      "  <meta content=\"IE=edge\" http-equiv=\"X-UA-Compatible\"/>\n",
      "  <meta content=\"app-id=342792525, app-argument=imdb:///?src=mdot\" name=\"apple-itunes-app\"/>\n",
      "  <script type=\"text/javascript\">\n",
      "   var IMDbTimer={starttime: new Date().getTime(),pt:'java'};\n",
      "  </script>\n",
      "  <script>\n",
      "   if (typeof uet == 'function') {\n",
      "      uet(\"bb\", \"LoadTitle\", {wb: 1});\n",
      "    }\n",
      "  </script>\n",
      "  <script>\n",
      "   (fu\n"
     ]
    }
   ],
   "source": [
    "print(soup.prettify()[:509])"
   ]
  },
  {
   "cell_type": "markdown",
   "metadata": {},
   "source": [
    "## Step 2: Finding the right key to scrap the data "
   ]
  },
  {
   "cell_type": "markdown",
   "metadata": {},
   "source": [
    "We use the code `soup.find()` to determine clearly from which specific things we are exploring. \n",
    "\n",
    "In this case i use `soup.find()` and put it as `table`."
   ]
  },
  {
   "cell_type": "code",
   "execution_count": 6,
   "metadata": {
    "ExecuteTime": {
     "end_time": "2020-01-13T05:12:23.878904Z",
     "start_time": "2020-01-13T05:12:23.854974Z"
    },
    "scrolled": false
   },
   "outputs": [
    {
     "name": "stdout",
     "output_type": "stream",
     "text": [
      "div class=\"lister list detail sub-list\">\n",
      " <div class=\"lister-list\">\n",
      "  <div class=\"lister-item mode-advanced\">\n",
      "   <div class=\"lister-top-right\">\n",
      "    <div class=\"ribbonize\" data-caller=\"filmosearch\" data-tconst=\"tt8111088\">\n",
      "    </div>\n",
      "   </div>\n",
      "   <div class=\"lister-item-image float-left\">\n",
      "    <a href=\"/title/tt8111088/\">\n",
      "     <img alt=\"The Mandalorian\" class=\"loadlate\" data-tconst=\"tt8111088\" height=\"98\" loadlate=\"https://m.media-amazon.com/images/M/MV5BZDhlMzY0ZGItZTcyNS00ZTAxLWIyMmYtZGQ2ODg5OWZiYmJkXkEyXkFqcGdeQXVyODkzNTgxMDg@._V1_UX67_CR0,0,67,98_AL_.jpg\" src=\"https://m.media-amazon.com/i\n"
     ]
    }
   ],
   "source": [
    "# pertama kita buat table nya dulu\n",
    "table = soup.find('div', attrs={'class':'lister list detail sub-list'}) \n",
    "\n",
    "print(table.prettify()[1:598])"
   ]
  },
  {
   "cell_type": "markdown",
   "metadata": {},
   "source": [
    "We are now all set. To be clearer, before we put the code in `temp`, I want to elaborate so You and My-Future-Self can know what is going on with the code :)"
   ]
  },
  {
   "cell_type": "markdown",
   "metadata": {},
   "source": [
    "## Step 3: Extracting the right information"
   ]
  },
  {
   "cell_type": "markdown",
   "metadata": {},
   "source": [
    "### How to get the Film's Data (Row)"
   ]
  },
  {
   "cell_type": "code",
   "execution_count": 7,
   "metadata": {
    "scrolled": true
   },
   "outputs": [
    {
     "data": {
      "text/plain": [
       "<div class=\"lister-item mode-advanced\">\n",
       "<div class=\"lister-top-right\">\n",
       "<div class=\"ribbonize\" data-caller=\"filmosearch\" data-tconst=\"tt8111088\"></div>\n",
       "</div>\n",
       "<div class=\"lister-item-image float-left\">\n",
       "<a href=\"/title/tt8111088/\"> <img alt=\"The Mandalorian\" class=\"loadlate\" data-tconst=\"tt8111088\" height=\"98\" loadlate=\"https://m.media-amazon.com/images/M/MV5BZDhlMzY0ZGItZTcyNS00ZTAxLWIyMmYtZGQ2ODg5OWZiYmJkXkEyXkFqcGdeQXVyODkzNTgxMDg@._V1_UX67_CR0,0,67,98_AL_.jpg\" src=\"https://m.media-amazon.com/images/G/01/imdb/images/nopicture/large/film-184890147._CB466725069_.png\" width=\"67\"/>\n",
       "</a> </div>\n",
       "<div class=\"lister-item-content\">\n",
       "<h3 class=\"lister-item-header\">\n",
       "<span class=\"lister-item-index unbold text-primary\">1.</span>\n",
       "<a href=\"/title/tt8111088/\">The Mandalorian</a>\n",
       "<span class=\"lister-item-year text-muted unbold\">(2019– )</span>\n",
       "</h3>\n",
       "<p class=\"text-muted\">\n",
       "<span class=\"runtime\">40 min</span>\n",
       "<span class=\"ghost\">|</span>\n",
       "<span class=\"genre\">\n",
       "Action, Adventure, Sci-Fi            </span>\n",
       "</p>\n",
       "<div class=\"ratings-bar\">\n",
       "<div class=\"inline-block ratings-imdb-rating\" data-value=\"8.7\" name=\"ir\">\n",
       "<span class=\"global-sprite rating-star imdb-rating\"></span>\n",
       "<strong>8.7</strong>\n",
       "</div>\n",
       "<div class=\"inline-block ratings-user-rating\">\n",
       "<span class=\"userRatingValue\" data-tconst=\"tt8111088\" id=\"urv_tt8111088\">\n",
       "<span class=\"global-sprite rating-star no-rating\"></span>\n",
       "<span class=\"rate\" data-no-rating=\"Rate this\" data-value=\"0\" name=\"ur\">Rate this</span>\n",
       "</span>\n",
       "<div class=\"starBarWidget\" id=\"sb_tt8111088\">\n",
       "<div class=\"rating rating-list\" data-auth=\"\" data-ga-identifier=\"\" data-starbar-class=\"rating-list\" data-user=\"\" id=\"tt8111088|imdb|8.7|8.7|adv_li_tt||advsearch|title\" itemprop=\"aggregateRating\" itemscope=\"\" itemtype=\"http://schema.org/AggregateRating\" title=\"Users rated this 8.7/10 (220,322 votes) - click stars to rate\">\n",
       "<meta content=\"8.7\" itemprop=\"ratingValue\"/>\n",
       "<meta content=\"10\" itemprop=\"bestRating\"/>\n",
       "<meta content=\"220322\" itemprop=\"ratingCount\"/>\n",
       "<span class=\"rating-bg\"> </span>\n",
       "<span class=\"rating-imdb\" style=\"width: 121.8px\"> </span>\n",
       "<span class=\"rating-stars\">\n",
       "<a href=\"/register/login?why=vote\" rel=\"nofollow\" title=\"Register or login to rate this title\"><span>1</span></a>\n",
       "<a href=\"/register/login?why=vote\" rel=\"nofollow\" title=\"Register or login to rate this title\"><span>2</span></a>\n",
       "<a href=\"/register/login?why=vote\" rel=\"nofollow\" title=\"Register or login to rate this title\"><span>3</span></a>\n",
       "<a href=\"/register/login?why=vote\" rel=\"nofollow\" title=\"Register or login to rate this title\"><span>4</span></a>\n",
       "<a href=\"/register/login?why=vote\" rel=\"nofollow\" title=\"Register or login to rate this title\"><span>5</span></a>\n",
       "<a href=\"/register/login?why=vote\" rel=\"nofollow\" title=\"Register or login to rate this title\"><span>6</span></a>\n",
       "<a href=\"/register/login?why=vote\" rel=\"nofollow\" title=\"Register or login to rate this title\"><span>7</span></a>\n",
       "<a href=\"/register/login?why=vote\" rel=\"nofollow\" title=\"Register or login to rate this title\"><span>8</span></a>\n",
       "<a href=\"/register/login?why=vote\" rel=\"nofollow\" title=\"Register or login to rate this title\"><span>9</span></a>\n",
       "<a href=\"/register/login?why=vote\" rel=\"nofollow\" title=\"Register or login to rate this title\"><span>10</span></a>\n",
       "</span>\n",
       "<span class=\"rating-rating\"><span class=\"value\">8.7</span><span class=\"grey\">/</span><span class=\"grey\">10</span></span>\n",
       "<span class=\"rating-cancel\"><a href=\"/title/tt8111088/vote?v=X;k=\" rel=\"nofollow\" title=\"Delete\"><span>X</span></a></span>\n",
       " </div>\n",
       "</div>\n",
       "</div>\n",
       "</div>\n",
       "<p class=\"text-muted\">\n",
       "    The travels of a lone bounty hunter in the outer reaches of the galaxy, far from the authority of the New Republic.</p>\n",
       "<p class=\"\">\n",
       "            \n",
       "    Stars:\n",
       "<a href=\"/name/nm0050959/\">Pedro Pascal</a>, \n",
       "<a href=\"/name/nm0001835/\">Carl Weathers</a>, \n",
       "<a href=\"/name/nm2442289/\">Gina Carano</a>, \n",
       "<a href=\"/name/nm0002064/\">Giancarlo Esposito</a>\n",
       "</p>\n",
       "<p class=\"sort-num_votes-visible\">\n",
       "<span class=\"text-muted\">Votes:</span>\n",
       "<span data-value=\"220322\" name=\"nv\">220,322</span>\n",
       "</p>\n",
       "</div>\n",
       "</div>"
      ]
     },
     "execution_count": 7,
     "metadata": {},
     "output_type": "execute_result"
    }
   ],
   "source": [
    "# syntax ini untuk nyari 'baris' nya atau data per row nya \n",
    "# maksudnya adalah film film nya yang di imdb \n",
    "\n",
    "row = table.find_all('div',attrs={'class':'lister-item mode-advanced'})\n",
    "\n",
    "row[0]\n",
    "\n",
    "# 0 ini maksudnya data pertama, jadi si The Mandalorian(1), kalau 6 berarti Wayne(7)"
   ]
  },
  {
   "cell_type": "markdown",
   "metadata": {},
   "source": [
    "We may skip this part and go directly to Step 4: Scrapping Process!"
   ]
  },
  {
   "cell_type": "markdown",
   "metadata": {},
   "source": [
    "**RUN ALL FROM ABOVE HERE**"
   ]
  },
  {
   "cell_type": "markdown",
   "metadata": {},
   "source": [
    "### How to get the Title (Run all above Here)"
   ]
  },
  {
   "cell_type": "code",
   "execution_count": null,
   "metadata": {
    "scrolled": true
   },
   "outputs": [],
   "source": [
    "# nah ini untuk nyari judul nya, karena jawabannya masih banyak, \n",
    "# maka cari yang spesifik yaitu yang awalannya adalah 'a' \n",
    "# lalu di buat text nya juga biar hilangin tulisan 'href=\"/title/tt8111088/\">'\n",
    "\n",
    "\n",
    "judul = row[0].find('h3', attrs={'class':'lister-item-header'})\n",
    "judul"
   ]
  },
  {
   "cell_type": "code",
   "execution_count": null,
   "metadata": {},
   "outputs": [],
   "source": [
    "# ini jawabannya\n",
    "# see, kalau diganti row[0] 0 nya jadi 6 pasti jawabannya Wayne(7), coba!\n",
    "\n",
    "judul = row[0].find('h3', attrs={'class':'lister-item-header'}).find('a').text\n",
    "judul"
   ]
  },
  {
   "cell_type": "markdown",
   "metadata": {},
   "source": [
    "### How to get the IMDB Rating"
   ]
  },
  {
   "cell_type": "code",
   "execution_count": null,
   "metadata": {
    "scrolled": true
   },
   "outputs": [],
   "source": [
    "# seperti tadi lagi, kita cari yang barisnya bener bener angka lalu di find dan text\n",
    "rating = row[0].find('div', attrs={'class':'inline-block ratings-imdb-rating'})\n",
    "rating"
   ]
  },
  {
   "cell_type": "code",
   "execution_count": null,
   "metadata": {},
   "outputs": [],
   "source": [
    "rating = row[0].find('div', attrs={'class':'inline-block ratings-imdb-rating'}).find('strong').text\n",
    "rating"
   ]
  },
  {
   "cell_type": "markdown",
   "metadata": {},
   "source": [
    "### How to get the MetaScore "
   ]
  },
  {
   "cell_type": "code",
   "execution_count": null,
   "metadata": {},
   "outputs": [],
   "source": [
    "# di contoh, yang ada metascores hanya Dreamland(4), dan Jojo Rabbit(5)\n",
    "# jadi baiknya kita buat visualisasi mata kita lihat yang jawabannya pasti ada\n",
    "# seperti title, kita find si angka nya letaknya dimana trus jadiin text\n",
    "\n",
    "metascores = row[3].find('div', attrs={'class':'inline-block ratings-metascore'})\n",
    "metascores"
   ]
  },
  {
   "cell_type": "code",
   "execution_count": null,
   "metadata": {},
   "outputs": [],
   "source": [
    "# nah karena jawabannya ada titiknya banyak, maka kita pakai strip agar titik\" hilang.\n",
    "metascores = row[3].find('div', attrs={'class':'inline-block ratings-metascore'}).find('span').text\n",
    "metascores"
   ]
  },
  {
   "cell_type": "code",
   "execution_count": null,
   "metadata": {
    "scrolled": true
   },
   "outputs": [],
   "source": [
    "metascores = row[3].find('div', attrs={'class':'inline-block ratings-metascore'}).find('span').text.strip()\n",
    "metascores"
   ]
  },
  {
   "cell_type": "markdown",
   "metadata": {},
   "source": [
    "Question is, not all movies and films are getting metascores, how will we resolve this situation ? We will make an If/Then situation which will be included in the `temp` code :)"
   ]
  },
  {
   "cell_type": "markdown",
   "metadata": {},
   "source": [
    "### How to know the Votes count"
   ]
  },
  {
   "cell_type": "code",
   "execution_count": null,
   "metadata": {
    "scrolled": true
   },
   "outputs": [],
   "source": [
    "# oke kita sudah cari votes nya sekarang cari letak asli nomor votes\n",
    "votes = row[0].find('p', attrs={'class':'sort-num_votes-visible'})\n",
    "votes"
   ]
  },
  {
   "cell_type": "code",
   "execution_count": null,
   "metadata": {},
   "outputs": [],
   "source": [
    "# loh kok yang di ambil tulisan votes nya, bukan angkanya? \n",
    "# karena dia ambil yang paling PERTAMA\n",
    "# jadi kita harus lebih spesifik lagi,\n",
    "# refer ke website nya melalui inspect, kita bisa lihat kalau tulisannya \n",
    "# span class>>>> lalu ada >>>> span name=\"nv\"\n",
    "# letak angka votes disitu jadi kita harus find span name nv\n",
    "\n",
    "votes = row[0].find('p', attrs={'class':'sort-num_votes-visible'}).find('span').text\n",
    "votes"
   ]
  },
  {
   "cell_type": "code",
   "execution_count": null,
   "metadata": {},
   "outputs": [],
   "source": [
    "votes = row[0].find('p', attrs={'class':'sort-num_votes-visible'}).find('span', attrs={'name':'nv'}).text\n",
    "votes"
   ]
  },
  {
   "cell_type": "markdown",
   "metadata": {},
   "source": [
    "## Step 4: Let's start the Scrapping Process!"
   ]
  },
  {
   "cell_type": "markdown",
   "metadata": {},
   "source": [
    "After seeing all the thorough explanation on how the extracting actually works, we now can put all the codes inside the `temp` code. \n",
    "\n",
    "the \"for `i` in range `(0,len(row))`: meaning that the i is the looping and 0 is the start and len(row) is the end, in this case we decided to take the whole ranking in one page (there are 50 films and movies).\n",
    "\n",
    "We included the row, title, rating, votes code here. \n",
    "\n",
    "And on the end of the tuple we put in `temp.append((___,___,___,___))` to put in the code into the output that we are about to see."
   ]
  },
  {
   "cell_type": "code",
   "execution_count": 8,
   "metadata": {
    "scrolled": true
   },
   "outputs": [
    {
     "data": {
      "text/plain": [
       "[('The Mandalorian', '8.7', '0', '220,322'),\n",
       " ('His Dark Materials', '7.9', '0', '42,284'),\n",
       " ('The Boys', '8.7', '0', '218,183'),\n",
       " ('Dreamland', '5.7', '57', '1,245'),\n",
       " ('Jojo Rabbit', '7.9', '58', '278,500'),\n",
       " ('Servant', '7.6', '0', '15,908'),\n",
       " ('Wayne', '8.4', '0', '8,567'),\n",
       " ('The Gentlemen', '7.8', '51', '208,050'),\n",
       " ('Undercover', '7.9', '0', '9,484'),\n",
       " ('The Witcher', '8.2', '0', '282,826'),\n",
       " ('Knives Out', '7.9', '82', '420,096'),\n",
       " ('Gisaengchung', '8.6', '96', '512,951'),\n",
       " ('Once Upon a Time... in Hollywood', '7.6', '83', '531,204'),\n",
       " ('Joker', '8.5', '59', '901,088'),\n",
       " ('Avengers: Endgame', '8.4', '78', '782,959'),\n",
       " ('Sex Education', '8.3', '0', '149,181'),\n",
       " ('Euphoria', '8.4', '0', '53,697'),\n",
       " ('Warrior', '8.2', '0', '13,240'),\n",
       " ('1917', '8.3', '78', '393,895'),\n",
       " ('Midsommar', '7.1', '72', '191,158'),\n",
       " ('Chernobyl', '9.4', '0', '513,961'),\n",
       " ('Doctor Sleep', '7.3', '59', '136,023'),\n",
       " ('Star Wars: Episode IX - The Rise of Skywalker', '6.6', '53', '359,422'),\n",
       " ('The Unicorn', '7.2', '0', '2,678'),\n",
       " (\"The Dead Don't Die\", '5.5', '53', '50,519'),\n",
       " ('The Spanish Princess', '6.8', '0', '4,292'),\n",
       " ('The Morning Show', '8.4', '0', '45,879'),\n",
       " ('Virgin River', '7.5', '0', '12,229'),\n",
       " ('The Irishman', '7.9', '94', '314,632'),\n",
       " ('After', '5.3', '30', '35,160'),\n",
       " ('Cats', '2.8', '32', '39,357'),\n",
       " ('Little Women', '7.8', '91', '132,780'),\n",
       " ('Jungleland', '6.2', '53', '1,299'),\n",
       " ('Uncut Gems', '7.4', '91', '210,382'),\n",
       " ('Bombshell', '6.8', '64', '79,941'),\n",
       " ('Evil', '7.6', '0', '10,829'),\n",
       " ('The Lighthouse', '7.5', '83', '133,401'),\n",
       " ('Buddy Games', '5.1', '22', '632'),\n",
       " ('Dark Waters', '7.6', '73', '52,899'),\n",
       " ('Ford v Ferrari', '8.1', '81', '275,223'),\n",
       " ('Watchmen', '8.1', '0', '86,091'),\n",
       " ('Doom Patrol', '7.9', '0', '32,337'),\n",
       " ('What We Do in the Shadows', '8.5', '0', '33,408'),\n",
       " ('Motherless Brooklyn', '6.8', '60', '39,685'),\n",
       " ('Terminator: Dark Fate', '6.2', '54', '144,407'),\n",
       " ('Jumanji: The Next Level', '6.7', '58', '179,941'),\n",
       " ('The Peanut Butter Falcon', '7.6', '70', '60,799'),\n",
       " ('See', '7.6', '0', '39,018'),\n",
       " ('Glass', '6.7', '43', '203,325'),\n",
       " ('Epidemiya', '7.3', '0', '6,786')]"
      ]
     },
     "execution_count": 8,
     "metadata": {},
     "output_type": "execute_result"
    }
   ],
   "source": [
    "temp = [] #initiating a tuple\n",
    "\n",
    "for i in range(0, len(row)):\n",
    "    \n",
    "    row = table.find_all('div',attrs={'class':'lister-item mode-advanced'})[i]\n",
    "\n",
    "    \n",
    "    judul = row.find('h3', attrs={'class':'lister-item-header'}).find('a').text\n",
    "    \n",
    "    if row.find('div', attrs={'class':'inline-block ratings-metascore'}) is None:\n",
    "        metascores = '0'\n",
    "    elif row.find('div', attrs={'class':'inline-block ratings-metascore'}).find('span').text:\n",
    "        metascores = row.find('div', attrs={'class':'inline-block ratings-metascore'}).find('span').text.strip()\n",
    "    \n",
    "    rating = row.find('div', attrs={'class':'inline-block ratings-imdb-rating'}).find('strong').text\n",
    "    \n",
    "    votes = row.find('p', attrs={'class':'sort-num_votes-visible'}).find('span', attrs={'name':'nv'}).text\n",
    "    \n",
    "    temp.append((judul, rating, metascores, votes))\n",
    "    \n",
    "temp "
   ]
  },
  {
   "cell_type": "markdown",
   "metadata": {},
   "source": [
    "## Step 5: Creating data frame & Data wrangling"
   ]
  },
  {
   "cell_type": "markdown",
   "metadata": {},
   "source": [
    "Because we have installed pandas in this notebook, we can then simply put `pd.dataframe()` to make a dataframe from the temp that we've made just now."
   ]
  },
  {
   "cell_type": "code",
   "execution_count": 26,
   "metadata": {
    "scrolled": true
   },
   "outputs": [
    {
     "data": {
      "text/html": [
       "<div>\n",
       "<style scoped>\n",
       "    .dataframe tbody tr th:only-of-type {\n",
       "        vertical-align: middle;\n",
       "    }\n",
       "\n",
       "    .dataframe tbody tr th {\n",
       "        vertical-align: top;\n",
       "    }\n",
       "\n",
       "    .dataframe thead th {\n",
       "        text-align: right;\n",
       "    }\n",
       "</style>\n",
       "<table border=\"1\" class=\"dataframe\">\n",
       "  <thead>\n",
       "    <tr style=\"text-align: right;\">\n",
       "      <th></th>\n",
       "      <th>Title</th>\n",
       "      <th>Ratings</th>\n",
       "      <th>Metascores</th>\n",
       "      <th>Votes</th>\n",
       "    </tr>\n",
       "  </thead>\n",
       "  <tbody>\n",
       "    <tr>\n",
       "      <th>0</th>\n",
       "      <td>The Mandalorian</td>\n",
       "      <td>8.7</td>\n",
       "      <td>0</td>\n",
       "      <td>220,322</td>\n",
       "    </tr>\n",
       "    <tr>\n",
       "      <th>1</th>\n",
       "      <td>His Dark Materials</td>\n",
       "      <td>7.9</td>\n",
       "      <td>0</td>\n",
       "      <td>42,284</td>\n",
       "    </tr>\n",
       "    <tr>\n",
       "      <th>2</th>\n",
       "      <td>The Boys</td>\n",
       "      <td>8.7</td>\n",
       "      <td>0</td>\n",
       "      <td>218,183</td>\n",
       "    </tr>\n",
       "    <tr>\n",
       "      <th>3</th>\n",
       "      <td>Dreamland</td>\n",
       "      <td>5.7</td>\n",
       "      <td>57</td>\n",
       "      <td>1,245</td>\n",
       "    </tr>\n",
       "    <tr>\n",
       "      <th>4</th>\n",
       "      <td>Jojo Rabbit</td>\n",
       "      <td>7.9</td>\n",
       "      <td>58</td>\n",
       "      <td>278,500</td>\n",
       "    </tr>\n",
       "    <tr>\n",
       "      <th>5</th>\n",
       "      <td>Servant</td>\n",
       "      <td>7.6</td>\n",
       "      <td>0</td>\n",
       "      <td>15,908</td>\n",
       "    </tr>\n",
       "    <tr>\n",
       "      <th>6</th>\n",
       "      <td>Wayne</td>\n",
       "      <td>8.4</td>\n",
       "      <td>0</td>\n",
       "      <td>8,567</td>\n",
       "    </tr>\n",
       "    <tr>\n",
       "      <th>7</th>\n",
       "      <td>The Gentlemen</td>\n",
       "      <td>7.8</td>\n",
       "      <td>51</td>\n",
       "      <td>208,050</td>\n",
       "    </tr>\n",
       "    <tr>\n",
       "      <th>8</th>\n",
       "      <td>Undercover</td>\n",
       "      <td>7.9</td>\n",
       "      <td>0</td>\n",
       "      <td>9,484</td>\n",
       "    </tr>\n",
       "    <tr>\n",
       "      <th>9</th>\n",
       "      <td>The Witcher</td>\n",
       "      <td>8.2</td>\n",
       "      <td>0</td>\n",
       "      <td>282,826</td>\n",
       "    </tr>\n",
       "    <tr>\n",
       "      <th>10</th>\n",
       "      <td>Knives Out</td>\n",
       "      <td>7.9</td>\n",
       "      <td>82</td>\n",
       "      <td>420,096</td>\n",
       "    </tr>\n",
       "    <tr>\n",
       "      <th>11</th>\n",
       "      <td>Gisaengchung</td>\n",
       "      <td>8.6</td>\n",
       "      <td>96</td>\n",
       "      <td>512,951</td>\n",
       "    </tr>\n",
       "    <tr>\n",
       "      <th>12</th>\n",
       "      <td>Once Upon a Time... in Hollywood</td>\n",
       "      <td>7.6</td>\n",
       "      <td>83</td>\n",
       "      <td>531,204</td>\n",
       "    </tr>\n",
       "    <tr>\n",
       "      <th>13</th>\n",
       "      <td>Joker</td>\n",
       "      <td>8.5</td>\n",
       "      <td>59</td>\n",
       "      <td>901,088</td>\n",
       "    </tr>\n",
       "    <tr>\n",
       "      <th>14</th>\n",
       "      <td>Avengers: Endgame</td>\n",
       "      <td>8.4</td>\n",
       "      <td>78</td>\n",
       "      <td>782,959</td>\n",
       "    </tr>\n",
       "    <tr>\n",
       "      <th>15</th>\n",
       "      <td>Sex Education</td>\n",
       "      <td>8.3</td>\n",
       "      <td>0</td>\n",
       "      <td>149,181</td>\n",
       "    </tr>\n",
       "    <tr>\n",
       "      <th>16</th>\n",
       "      <td>Euphoria</td>\n",
       "      <td>8.4</td>\n",
       "      <td>0</td>\n",
       "      <td>53,697</td>\n",
       "    </tr>\n",
       "    <tr>\n",
       "      <th>17</th>\n",
       "      <td>Warrior</td>\n",
       "      <td>8.2</td>\n",
       "      <td>0</td>\n",
       "      <td>13,240</td>\n",
       "    </tr>\n",
       "    <tr>\n",
       "      <th>18</th>\n",
       "      <td>1917</td>\n",
       "      <td>8.3</td>\n",
       "      <td>78</td>\n",
       "      <td>393,895</td>\n",
       "    </tr>\n",
       "    <tr>\n",
       "      <th>19</th>\n",
       "      <td>Midsommar</td>\n",
       "      <td>7.1</td>\n",
       "      <td>72</td>\n",
       "      <td>191,158</td>\n",
       "    </tr>\n",
       "    <tr>\n",
       "      <th>20</th>\n",
       "      <td>Chernobyl</td>\n",
       "      <td>9.4</td>\n",
       "      <td>0</td>\n",
       "      <td>513,961</td>\n",
       "    </tr>\n",
       "    <tr>\n",
       "      <th>21</th>\n",
       "      <td>Doctor Sleep</td>\n",
       "      <td>7.3</td>\n",
       "      <td>59</td>\n",
       "      <td>136,023</td>\n",
       "    </tr>\n",
       "    <tr>\n",
       "      <th>22</th>\n",
       "      <td>Star Wars: Episode IX - The Rise of Skywalker</td>\n",
       "      <td>6.6</td>\n",
       "      <td>53</td>\n",
       "      <td>359,422</td>\n",
       "    </tr>\n",
       "    <tr>\n",
       "      <th>23</th>\n",
       "      <td>The Unicorn</td>\n",
       "      <td>7.2</td>\n",
       "      <td>0</td>\n",
       "      <td>2,678</td>\n",
       "    </tr>\n",
       "    <tr>\n",
       "      <th>24</th>\n",
       "      <td>The Dead Don't Die</td>\n",
       "      <td>5.5</td>\n",
       "      <td>53</td>\n",
       "      <td>50,519</td>\n",
       "    </tr>\n",
       "    <tr>\n",
       "      <th>25</th>\n",
       "      <td>The Spanish Princess</td>\n",
       "      <td>6.8</td>\n",
       "      <td>0</td>\n",
       "      <td>4,292</td>\n",
       "    </tr>\n",
       "    <tr>\n",
       "      <th>26</th>\n",
       "      <td>The Morning Show</td>\n",
       "      <td>8.4</td>\n",
       "      <td>0</td>\n",
       "      <td>45,879</td>\n",
       "    </tr>\n",
       "    <tr>\n",
       "      <th>27</th>\n",
       "      <td>Virgin River</td>\n",
       "      <td>7.5</td>\n",
       "      <td>0</td>\n",
       "      <td>12,229</td>\n",
       "    </tr>\n",
       "    <tr>\n",
       "      <th>28</th>\n",
       "      <td>The Irishman</td>\n",
       "      <td>7.9</td>\n",
       "      <td>94</td>\n",
       "      <td>314,632</td>\n",
       "    </tr>\n",
       "    <tr>\n",
       "      <th>29</th>\n",
       "      <td>After</td>\n",
       "      <td>5.3</td>\n",
       "      <td>30</td>\n",
       "      <td>35,160</td>\n",
       "    </tr>\n",
       "    <tr>\n",
       "      <th>30</th>\n",
       "      <td>Cats</td>\n",
       "      <td>2.8</td>\n",
       "      <td>32</td>\n",
       "      <td>39,357</td>\n",
       "    </tr>\n",
       "    <tr>\n",
       "      <th>31</th>\n",
       "      <td>Little Women</td>\n",
       "      <td>7.8</td>\n",
       "      <td>91</td>\n",
       "      <td>132,780</td>\n",
       "    </tr>\n",
       "    <tr>\n",
       "      <th>32</th>\n",
       "      <td>Jungleland</td>\n",
       "      <td>6.2</td>\n",
       "      <td>53</td>\n",
       "      <td>1,299</td>\n",
       "    </tr>\n",
       "    <tr>\n",
       "      <th>33</th>\n",
       "      <td>Uncut Gems</td>\n",
       "      <td>7.4</td>\n",
       "      <td>91</td>\n",
       "      <td>210,382</td>\n",
       "    </tr>\n",
       "    <tr>\n",
       "      <th>34</th>\n",
       "      <td>Bombshell</td>\n",
       "      <td>6.8</td>\n",
       "      <td>64</td>\n",
       "      <td>79,941</td>\n",
       "    </tr>\n",
       "    <tr>\n",
       "      <th>35</th>\n",
       "      <td>Evil</td>\n",
       "      <td>7.6</td>\n",
       "      <td>0</td>\n",
       "      <td>10,829</td>\n",
       "    </tr>\n",
       "    <tr>\n",
       "      <th>36</th>\n",
       "      <td>The Lighthouse</td>\n",
       "      <td>7.5</td>\n",
       "      <td>83</td>\n",
       "      <td>133,401</td>\n",
       "    </tr>\n",
       "    <tr>\n",
       "      <th>37</th>\n",
       "      <td>Buddy Games</td>\n",
       "      <td>5.1</td>\n",
       "      <td>22</td>\n",
       "      <td>632</td>\n",
       "    </tr>\n",
       "    <tr>\n",
       "      <th>38</th>\n",
       "      <td>Dark Waters</td>\n",
       "      <td>7.6</td>\n",
       "      <td>73</td>\n",
       "      <td>52,899</td>\n",
       "    </tr>\n",
       "    <tr>\n",
       "      <th>39</th>\n",
       "      <td>Ford v Ferrari</td>\n",
       "      <td>8.1</td>\n",
       "      <td>81</td>\n",
       "      <td>275,223</td>\n",
       "    </tr>\n",
       "    <tr>\n",
       "      <th>40</th>\n",
       "      <td>Watchmen</td>\n",
       "      <td>8.1</td>\n",
       "      <td>0</td>\n",
       "      <td>86,091</td>\n",
       "    </tr>\n",
       "    <tr>\n",
       "      <th>41</th>\n",
       "      <td>Doom Patrol</td>\n",
       "      <td>7.9</td>\n",
       "      <td>0</td>\n",
       "      <td>32,337</td>\n",
       "    </tr>\n",
       "    <tr>\n",
       "      <th>42</th>\n",
       "      <td>What We Do in the Shadows</td>\n",
       "      <td>8.5</td>\n",
       "      <td>0</td>\n",
       "      <td>33,408</td>\n",
       "    </tr>\n",
       "    <tr>\n",
       "      <th>43</th>\n",
       "      <td>Motherless Brooklyn</td>\n",
       "      <td>6.8</td>\n",
       "      <td>60</td>\n",
       "      <td>39,685</td>\n",
       "    </tr>\n",
       "    <tr>\n",
       "      <th>44</th>\n",
       "      <td>Terminator: Dark Fate</td>\n",
       "      <td>6.2</td>\n",
       "      <td>54</td>\n",
       "      <td>144,407</td>\n",
       "    </tr>\n",
       "    <tr>\n",
       "      <th>45</th>\n",
       "      <td>Jumanji: The Next Level</td>\n",
       "      <td>6.7</td>\n",
       "      <td>58</td>\n",
       "      <td>179,941</td>\n",
       "    </tr>\n",
       "    <tr>\n",
       "      <th>46</th>\n",
       "      <td>The Peanut Butter Falcon</td>\n",
       "      <td>7.6</td>\n",
       "      <td>70</td>\n",
       "      <td>60,799</td>\n",
       "    </tr>\n",
       "    <tr>\n",
       "      <th>47</th>\n",
       "      <td>See</td>\n",
       "      <td>7.6</td>\n",
       "      <td>0</td>\n",
       "      <td>39,018</td>\n",
       "    </tr>\n",
       "    <tr>\n",
       "      <th>48</th>\n",
       "      <td>Glass</td>\n",
       "      <td>6.7</td>\n",
       "      <td>43</td>\n",
       "      <td>203,325</td>\n",
       "    </tr>\n",
       "    <tr>\n",
       "      <th>49</th>\n",
       "      <td>Epidemiya</td>\n",
       "      <td>7.3</td>\n",
       "      <td>0</td>\n",
       "      <td>6,786</td>\n",
       "    </tr>\n",
       "  </tbody>\n",
       "</table>\n",
       "</div>"
      ],
      "text/plain": [
       "                                            Title Ratings Metascores    Votes\n",
       "0                                 The Mandalorian     8.7          0  220,322\n",
       "1                              His Dark Materials     7.9          0   42,284\n",
       "2                                        The Boys     8.7          0  218,183\n",
       "3                                       Dreamland     5.7         57    1,245\n",
       "4                                     Jojo Rabbit     7.9         58  278,500\n",
       "5                                         Servant     7.6          0   15,908\n",
       "6                                           Wayne     8.4          0    8,567\n",
       "7                                   The Gentlemen     7.8         51  208,050\n",
       "8                                      Undercover     7.9          0    9,484\n",
       "9                                     The Witcher     8.2          0  282,826\n",
       "10                                     Knives Out     7.9         82  420,096\n",
       "11                                   Gisaengchung     8.6         96  512,951\n",
       "12               Once Upon a Time... in Hollywood     7.6         83  531,204\n",
       "13                                          Joker     8.5         59  901,088\n",
       "14                              Avengers: Endgame     8.4         78  782,959\n",
       "15                                  Sex Education     8.3          0  149,181\n",
       "16                                       Euphoria     8.4          0   53,697\n",
       "17                                        Warrior     8.2          0   13,240\n",
       "18                                           1917     8.3         78  393,895\n",
       "19                                      Midsommar     7.1         72  191,158\n",
       "20                                      Chernobyl     9.4          0  513,961\n",
       "21                                   Doctor Sleep     7.3         59  136,023\n",
       "22  Star Wars: Episode IX - The Rise of Skywalker     6.6         53  359,422\n",
       "23                                    The Unicorn     7.2          0    2,678\n",
       "24                             The Dead Don't Die     5.5         53   50,519\n",
       "25                           The Spanish Princess     6.8          0    4,292\n",
       "26                               The Morning Show     8.4          0   45,879\n",
       "27                                   Virgin River     7.5          0   12,229\n",
       "28                                   The Irishman     7.9         94  314,632\n",
       "29                                          After     5.3         30   35,160\n",
       "30                                           Cats     2.8         32   39,357\n",
       "31                                   Little Women     7.8         91  132,780\n",
       "32                                     Jungleland     6.2         53    1,299\n",
       "33                                     Uncut Gems     7.4         91  210,382\n",
       "34                                      Bombshell     6.8         64   79,941\n",
       "35                                           Evil     7.6          0   10,829\n",
       "36                                 The Lighthouse     7.5         83  133,401\n",
       "37                                    Buddy Games     5.1         22      632\n",
       "38                                    Dark Waters     7.6         73   52,899\n",
       "39                                 Ford v Ferrari     8.1         81  275,223\n",
       "40                                       Watchmen     8.1          0   86,091\n",
       "41                                    Doom Patrol     7.9          0   32,337\n",
       "42                      What We Do in the Shadows     8.5          0   33,408\n",
       "43                            Motherless Brooklyn     6.8         60   39,685\n",
       "44                          Terminator: Dark Fate     6.2         54  144,407\n",
       "45                        Jumanji: The Next Level     6.7         58  179,941\n",
       "46                       The Peanut Butter Falcon     7.6         70   60,799\n",
       "47                                            See     7.6          0   39,018\n",
       "48                                          Glass     6.7         43  203,325\n",
       "49                                      Epidemiya     7.3          0    6,786"
      ]
     },
     "execution_count": 26,
     "metadata": {},
     "output_type": "execute_result"
    }
   ],
   "source": [
    "imdb = pd.DataFrame(temp, columns= ('Title', 'Ratings', 'Metascores', 'Votes'))\n",
    "imdb"
   ]
  },
  {
   "cell_type": "markdown",
   "metadata": {},
   "source": [
    "Awesome! Now we get the dataframe, let's find out their info :)"
   ]
  },
  {
   "cell_type": "code",
   "execution_count": 27,
   "metadata": {
    "ExecuteTime": {
     "end_time": "2020-01-13T05:12:59.165559Z",
     "start_time": "2020-01-13T05:12:58.910012Z"
    },
    "scrolled": true
   },
   "outputs": [
    {
     "name": "stdout",
     "output_type": "stream",
     "text": [
      "<class 'pandas.core.frame.DataFrame'>\n",
      "RangeIndex: 50 entries, 0 to 49\n",
      "Data columns (total 4 columns):\n",
      " #   Column      Non-Null Count  Dtype \n",
      "---  ------      --------------  ----- \n",
      " 0   Title       50 non-null     object\n",
      " 1   Ratings     50 non-null     object\n",
      " 2   Metascores  50 non-null     object\n",
      " 3   Votes       50 non-null     object\n",
      "dtypes: object(4)\n",
      "memory usage: 1.7+ KB\n"
     ]
    }
   ],
   "source": [
    "imdb.info()"
   ]
  },
  {
   "cell_type": "markdown",
   "metadata": {},
   "source": [
    "It looks like that all of the data types are considered as object. This is not right, let's change this!"
   ]
  },
  {
   "cell_type": "markdown",
   "metadata": {},
   "source": [
    "### How to change the columns type"
   ]
  },
  {
   "cell_type": "code",
   "execution_count": 28,
   "metadata": {},
   "outputs": [],
   "source": [
    "# ganti ratings dan metascores jadi float agar bisa di buat plot\n",
    "\n",
    "imdb[['Ratings','Metascores']] = imdb[['Ratings','Metascores']].astype('float64')"
   ]
  },
  {
   "cell_type": "code",
   "execution_count": 29,
   "metadata": {},
   "outputs": [],
   "source": [
    "# untuk buat title nya yang jadi index nya\n",
    "\n",
    "imdb = imdb.set_index('Title')"
   ]
  },
  {
   "cell_type": "code",
   "execution_count": 30,
   "metadata": {},
   "outputs": [],
   "source": [
    "# kita mau buat kolom Votes jadi integer biar bisa di buat plot. \n",
    "\n",
    "imdb['Votes'] = imdb['Votes'].str.replace(',', '')\n",
    "imdb['Votes'] = imdb['Votes'].astype('int')"
   ]
  },
  {
   "cell_type": "code",
   "execution_count": 31,
   "metadata": {
    "scrolled": true
   },
   "outputs": [
    {
     "name": "stdout",
     "output_type": "stream",
     "text": [
      "<class 'pandas.core.frame.DataFrame'>\n",
      "Index: 50 entries, The Mandalorian to Epidemiya\n",
      "Data columns (total 3 columns):\n",
      " #   Column      Non-Null Count  Dtype  \n",
      "---  ------      --------------  -----  \n",
      " 0   Ratings     50 non-null     float64\n",
      " 1   Metascores  50 non-null     float64\n",
      " 2   Votes       50 non-null     int64  \n",
      "dtypes: float64(2), int64(1)\n",
      "memory usage: 1.6+ KB\n"
     ]
    }
   ],
   "source": [
    "imdb.info()"
   ]
  },
  {
   "cell_type": "markdown",
   "metadata": {},
   "source": [
    "notice how before we got 4 columns, and now only 3 ? It's because that we have made the `Title` columns to become the index of the dataframe :) Don't believe it? See it for yourself"
   ]
  },
  {
   "cell_type": "code",
   "execution_count": 32,
   "metadata": {
    "scrolled": true
   },
   "outputs": [
    {
     "data": {
      "text/html": [
       "<div>\n",
       "<style scoped>\n",
       "    .dataframe tbody tr th:only-of-type {\n",
       "        vertical-align: middle;\n",
       "    }\n",
       "\n",
       "    .dataframe tbody tr th {\n",
       "        vertical-align: top;\n",
       "    }\n",
       "\n",
       "    .dataframe thead th {\n",
       "        text-align: right;\n",
       "    }\n",
       "</style>\n",
       "<table border=\"1\" class=\"dataframe\">\n",
       "  <thead>\n",
       "    <tr style=\"text-align: right;\">\n",
       "      <th></th>\n",
       "      <th>Ratings</th>\n",
       "      <th>Metascores</th>\n",
       "      <th>Votes</th>\n",
       "    </tr>\n",
       "    <tr>\n",
       "      <th>Title</th>\n",
       "      <th></th>\n",
       "      <th></th>\n",
       "      <th></th>\n",
       "    </tr>\n",
       "  </thead>\n",
       "  <tbody>\n",
       "    <tr>\n",
       "      <th>The Mandalorian</th>\n",
       "      <td>8.7</td>\n",
       "      <td>0.0</td>\n",
       "      <td>220322</td>\n",
       "    </tr>\n",
       "    <tr>\n",
       "      <th>His Dark Materials</th>\n",
       "      <td>7.9</td>\n",
       "      <td>0.0</td>\n",
       "      <td>42284</td>\n",
       "    </tr>\n",
       "    <tr>\n",
       "      <th>The Boys</th>\n",
       "      <td>8.7</td>\n",
       "      <td>0.0</td>\n",
       "      <td>218183</td>\n",
       "    </tr>\n",
       "    <tr>\n",
       "      <th>Dreamland</th>\n",
       "      <td>5.7</td>\n",
       "      <td>57.0</td>\n",
       "      <td>1245</td>\n",
       "    </tr>\n",
       "    <tr>\n",
       "      <th>Jojo Rabbit</th>\n",
       "      <td>7.9</td>\n",
       "      <td>58.0</td>\n",
       "      <td>278500</td>\n",
       "    </tr>\n",
       "    <tr>\n",
       "      <th>Servant</th>\n",
       "      <td>7.6</td>\n",
       "      <td>0.0</td>\n",
       "      <td>15908</td>\n",
       "    </tr>\n",
       "    <tr>\n",
       "      <th>Wayne</th>\n",
       "      <td>8.4</td>\n",
       "      <td>0.0</td>\n",
       "      <td>8567</td>\n",
       "    </tr>\n",
       "    <tr>\n",
       "      <th>The Gentlemen</th>\n",
       "      <td>7.8</td>\n",
       "      <td>51.0</td>\n",
       "      <td>208050</td>\n",
       "    </tr>\n",
       "    <tr>\n",
       "      <th>Undercover</th>\n",
       "      <td>7.9</td>\n",
       "      <td>0.0</td>\n",
       "      <td>9484</td>\n",
       "    </tr>\n",
       "    <tr>\n",
       "      <th>The Witcher</th>\n",
       "      <td>8.2</td>\n",
       "      <td>0.0</td>\n",
       "      <td>282826</td>\n",
       "    </tr>\n",
       "    <tr>\n",
       "      <th>Knives Out</th>\n",
       "      <td>7.9</td>\n",
       "      <td>82.0</td>\n",
       "      <td>420096</td>\n",
       "    </tr>\n",
       "    <tr>\n",
       "      <th>Gisaengchung</th>\n",
       "      <td>8.6</td>\n",
       "      <td>96.0</td>\n",
       "      <td>512951</td>\n",
       "    </tr>\n",
       "    <tr>\n",
       "      <th>Once Upon a Time... in Hollywood</th>\n",
       "      <td>7.6</td>\n",
       "      <td>83.0</td>\n",
       "      <td>531204</td>\n",
       "    </tr>\n",
       "    <tr>\n",
       "      <th>Joker</th>\n",
       "      <td>8.5</td>\n",
       "      <td>59.0</td>\n",
       "      <td>901088</td>\n",
       "    </tr>\n",
       "    <tr>\n",
       "      <th>Avengers: Endgame</th>\n",
       "      <td>8.4</td>\n",
       "      <td>78.0</td>\n",
       "      <td>782959</td>\n",
       "    </tr>\n",
       "    <tr>\n",
       "      <th>Sex Education</th>\n",
       "      <td>8.3</td>\n",
       "      <td>0.0</td>\n",
       "      <td>149181</td>\n",
       "    </tr>\n",
       "    <tr>\n",
       "      <th>Euphoria</th>\n",
       "      <td>8.4</td>\n",
       "      <td>0.0</td>\n",
       "      <td>53697</td>\n",
       "    </tr>\n",
       "    <tr>\n",
       "      <th>Warrior</th>\n",
       "      <td>8.2</td>\n",
       "      <td>0.0</td>\n",
       "      <td>13240</td>\n",
       "    </tr>\n",
       "    <tr>\n",
       "      <th>1917</th>\n",
       "      <td>8.3</td>\n",
       "      <td>78.0</td>\n",
       "      <td>393895</td>\n",
       "    </tr>\n",
       "    <tr>\n",
       "      <th>Midsommar</th>\n",
       "      <td>7.1</td>\n",
       "      <td>72.0</td>\n",
       "      <td>191158</td>\n",
       "    </tr>\n",
       "    <tr>\n",
       "      <th>Chernobyl</th>\n",
       "      <td>9.4</td>\n",
       "      <td>0.0</td>\n",
       "      <td>513961</td>\n",
       "    </tr>\n",
       "    <tr>\n",
       "      <th>Doctor Sleep</th>\n",
       "      <td>7.3</td>\n",
       "      <td>59.0</td>\n",
       "      <td>136023</td>\n",
       "    </tr>\n",
       "    <tr>\n",
       "      <th>Star Wars: Episode IX - The Rise of Skywalker</th>\n",
       "      <td>6.6</td>\n",
       "      <td>53.0</td>\n",
       "      <td>359422</td>\n",
       "    </tr>\n",
       "    <tr>\n",
       "      <th>The Unicorn</th>\n",
       "      <td>7.2</td>\n",
       "      <td>0.0</td>\n",
       "      <td>2678</td>\n",
       "    </tr>\n",
       "    <tr>\n",
       "      <th>The Dead Don't Die</th>\n",
       "      <td>5.5</td>\n",
       "      <td>53.0</td>\n",
       "      <td>50519</td>\n",
       "    </tr>\n",
       "    <tr>\n",
       "      <th>The Spanish Princess</th>\n",
       "      <td>6.8</td>\n",
       "      <td>0.0</td>\n",
       "      <td>4292</td>\n",
       "    </tr>\n",
       "    <tr>\n",
       "      <th>The Morning Show</th>\n",
       "      <td>8.4</td>\n",
       "      <td>0.0</td>\n",
       "      <td>45879</td>\n",
       "    </tr>\n",
       "    <tr>\n",
       "      <th>Virgin River</th>\n",
       "      <td>7.5</td>\n",
       "      <td>0.0</td>\n",
       "      <td>12229</td>\n",
       "    </tr>\n",
       "    <tr>\n",
       "      <th>The Irishman</th>\n",
       "      <td>7.9</td>\n",
       "      <td>94.0</td>\n",
       "      <td>314632</td>\n",
       "    </tr>\n",
       "    <tr>\n",
       "      <th>After</th>\n",
       "      <td>5.3</td>\n",
       "      <td>30.0</td>\n",
       "      <td>35160</td>\n",
       "    </tr>\n",
       "    <tr>\n",
       "      <th>Cats</th>\n",
       "      <td>2.8</td>\n",
       "      <td>32.0</td>\n",
       "      <td>39357</td>\n",
       "    </tr>\n",
       "    <tr>\n",
       "      <th>Little Women</th>\n",
       "      <td>7.8</td>\n",
       "      <td>91.0</td>\n",
       "      <td>132780</td>\n",
       "    </tr>\n",
       "    <tr>\n",
       "      <th>Jungleland</th>\n",
       "      <td>6.2</td>\n",
       "      <td>53.0</td>\n",
       "      <td>1299</td>\n",
       "    </tr>\n",
       "    <tr>\n",
       "      <th>Uncut Gems</th>\n",
       "      <td>7.4</td>\n",
       "      <td>91.0</td>\n",
       "      <td>210382</td>\n",
       "    </tr>\n",
       "    <tr>\n",
       "      <th>Bombshell</th>\n",
       "      <td>6.8</td>\n",
       "      <td>64.0</td>\n",
       "      <td>79941</td>\n",
       "    </tr>\n",
       "    <tr>\n",
       "      <th>Evil</th>\n",
       "      <td>7.6</td>\n",
       "      <td>0.0</td>\n",
       "      <td>10829</td>\n",
       "    </tr>\n",
       "    <tr>\n",
       "      <th>The Lighthouse</th>\n",
       "      <td>7.5</td>\n",
       "      <td>83.0</td>\n",
       "      <td>133401</td>\n",
       "    </tr>\n",
       "    <tr>\n",
       "      <th>Buddy Games</th>\n",
       "      <td>5.1</td>\n",
       "      <td>22.0</td>\n",
       "      <td>632</td>\n",
       "    </tr>\n",
       "    <tr>\n",
       "      <th>Dark Waters</th>\n",
       "      <td>7.6</td>\n",
       "      <td>73.0</td>\n",
       "      <td>52899</td>\n",
       "    </tr>\n",
       "    <tr>\n",
       "      <th>Ford v Ferrari</th>\n",
       "      <td>8.1</td>\n",
       "      <td>81.0</td>\n",
       "      <td>275223</td>\n",
       "    </tr>\n",
       "    <tr>\n",
       "      <th>Watchmen</th>\n",
       "      <td>8.1</td>\n",
       "      <td>0.0</td>\n",
       "      <td>86091</td>\n",
       "    </tr>\n",
       "    <tr>\n",
       "      <th>Doom Patrol</th>\n",
       "      <td>7.9</td>\n",
       "      <td>0.0</td>\n",
       "      <td>32337</td>\n",
       "    </tr>\n",
       "    <tr>\n",
       "      <th>What We Do in the Shadows</th>\n",
       "      <td>8.5</td>\n",
       "      <td>0.0</td>\n",
       "      <td>33408</td>\n",
       "    </tr>\n",
       "    <tr>\n",
       "      <th>Motherless Brooklyn</th>\n",
       "      <td>6.8</td>\n",
       "      <td>60.0</td>\n",
       "      <td>39685</td>\n",
       "    </tr>\n",
       "    <tr>\n",
       "      <th>Terminator: Dark Fate</th>\n",
       "      <td>6.2</td>\n",
       "      <td>54.0</td>\n",
       "      <td>144407</td>\n",
       "    </tr>\n",
       "    <tr>\n",
       "      <th>Jumanji: The Next Level</th>\n",
       "      <td>6.7</td>\n",
       "      <td>58.0</td>\n",
       "      <td>179941</td>\n",
       "    </tr>\n",
       "    <tr>\n",
       "      <th>The Peanut Butter Falcon</th>\n",
       "      <td>7.6</td>\n",
       "      <td>70.0</td>\n",
       "      <td>60799</td>\n",
       "    </tr>\n",
       "    <tr>\n",
       "      <th>See</th>\n",
       "      <td>7.6</td>\n",
       "      <td>0.0</td>\n",
       "      <td>39018</td>\n",
       "    </tr>\n",
       "    <tr>\n",
       "      <th>Glass</th>\n",
       "      <td>6.7</td>\n",
       "      <td>43.0</td>\n",
       "      <td>203325</td>\n",
       "    </tr>\n",
       "    <tr>\n",
       "      <th>Epidemiya</th>\n",
       "      <td>7.3</td>\n",
       "      <td>0.0</td>\n",
       "      <td>6786</td>\n",
       "    </tr>\n",
       "  </tbody>\n",
       "</table>\n",
       "</div>"
      ],
      "text/plain": [
       "                                               Ratings  Metascores   Votes\n",
       "Title                                                                     \n",
       "The Mandalorian                                    8.7         0.0  220322\n",
       "His Dark Materials                                 7.9         0.0   42284\n",
       "The Boys                                           8.7         0.0  218183\n",
       "Dreamland                                          5.7        57.0    1245\n",
       "Jojo Rabbit                                        7.9        58.0  278500\n",
       "Servant                                            7.6         0.0   15908\n",
       "Wayne                                              8.4         0.0    8567\n",
       "The Gentlemen                                      7.8        51.0  208050\n",
       "Undercover                                         7.9         0.0    9484\n",
       "The Witcher                                        8.2         0.0  282826\n",
       "Knives Out                                         7.9        82.0  420096\n",
       "Gisaengchung                                       8.6        96.0  512951\n",
       "Once Upon a Time... in Hollywood                   7.6        83.0  531204\n",
       "Joker                                              8.5        59.0  901088\n",
       "Avengers: Endgame                                  8.4        78.0  782959\n",
       "Sex Education                                      8.3         0.0  149181\n",
       "Euphoria                                           8.4         0.0   53697\n",
       "Warrior                                            8.2         0.0   13240\n",
       "1917                                               8.3        78.0  393895\n",
       "Midsommar                                          7.1        72.0  191158\n",
       "Chernobyl                                          9.4         0.0  513961\n",
       "Doctor Sleep                                       7.3        59.0  136023\n",
       "Star Wars: Episode IX - The Rise of Skywalker      6.6        53.0  359422\n",
       "The Unicorn                                        7.2         0.0    2678\n",
       "The Dead Don't Die                                 5.5        53.0   50519\n",
       "The Spanish Princess                               6.8         0.0    4292\n",
       "The Morning Show                                   8.4         0.0   45879\n",
       "Virgin River                                       7.5         0.0   12229\n",
       "The Irishman                                       7.9        94.0  314632\n",
       "After                                              5.3        30.0   35160\n",
       "Cats                                               2.8        32.0   39357\n",
       "Little Women                                       7.8        91.0  132780\n",
       "Jungleland                                         6.2        53.0    1299\n",
       "Uncut Gems                                         7.4        91.0  210382\n",
       "Bombshell                                          6.8        64.0   79941\n",
       "Evil                                               7.6         0.0   10829\n",
       "The Lighthouse                                     7.5        83.0  133401\n",
       "Buddy Games                                        5.1        22.0     632\n",
       "Dark Waters                                        7.6        73.0   52899\n",
       "Ford v Ferrari                                     8.1        81.0  275223\n",
       "Watchmen                                           8.1         0.0   86091\n",
       "Doom Patrol                                        7.9         0.0   32337\n",
       "What We Do in the Shadows                          8.5         0.0   33408\n",
       "Motherless Brooklyn                                6.8        60.0   39685\n",
       "Terminator: Dark Fate                              6.2        54.0  144407\n",
       "Jumanji: The Next Level                            6.7        58.0  179941\n",
       "The Peanut Butter Falcon                           7.6        70.0   60799\n",
       "See                                                7.6         0.0   39018\n",
       "Glass                                              6.7        43.0  203325\n",
       "Epidemiya                                          7.3         0.0    6786"
      ]
     },
     "execution_count": 32,
     "metadata": {},
     "output_type": "execute_result"
    }
   ],
   "source": [
    "imdb"
   ]
  },
  {
   "cell_type": "markdown",
   "metadata": {},
   "source": [
    "Then we make a dataframe that only concludes the top 7 because that is what we are going to take a look at :D"
   ]
  },
  {
   "cell_type": "code",
   "execution_count": 33,
   "metadata": {
    "scrolled": true
   },
   "outputs": [
    {
     "data": {
      "text/html": [
       "<div>\n",
       "<style scoped>\n",
       "    .dataframe tbody tr th:only-of-type {\n",
       "        vertical-align: middle;\n",
       "    }\n",
       "\n",
       "    .dataframe tbody tr th {\n",
       "        vertical-align: top;\n",
       "    }\n",
       "\n",
       "    .dataframe thead th {\n",
       "        text-align: right;\n",
       "    }\n",
       "</style>\n",
       "<table border=\"1\" class=\"dataframe\">\n",
       "  <thead>\n",
       "    <tr style=\"text-align: right;\">\n",
       "      <th></th>\n",
       "      <th>Ratings</th>\n",
       "      <th>Metascores</th>\n",
       "      <th>Votes</th>\n",
       "    </tr>\n",
       "    <tr>\n",
       "      <th>Title</th>\n",
       "      <th></th>\n",
       "      <th></th>\n",
       "      <th></th>\n",
       "    </tr>\n",
       "  </thead>\n",
       "  <tbody>\n",
       "    <tr>\n",
       "      <th>The Mandalorian</th>\n",
       "      <td>8.7</td>\n",
       "      <td>0.0</td>\n",
       "      <td>220322</td>\n",
       "    </tr>\n",
       "    <tr>\n",
       "      <th>His Dark Materials</th>\n",
       "      <td>7.9</td>\n",
       "      <td>0.0</td>\n",
       "      <td>42284</td>\n",
       "    </tr>\n",
       "    <tr>\n",
       "      <th>The Boys</th>\n",
       "      <td>8.7</td>\n",
       "      <td>0.0</td>\n",
       "      <td>218183</td>\n",
       "    </tr>\n",
       "    <tr>\n",
       "      <th>Dreamland</th>\n",
       "      <td>5.7</td>\n",
       "      <td>57.0</td>\n",
       "      <td>1245</td>\n",
       "    </tr>\n",
       "    <tr>\n",
       "      <th>Jojo Rabbit</th>\n",
       "      <td>7.9</td>\n",
       "      <td>58.0</td>\n",
       "      <td>278500</td>\n",
       "    </tr>\n",
       "    <tr>\n",
       "      <th>Servant</th>\n",
       "      <td>7.6</td>\n",
       "      <td>0.0</td>\n",
       "      <td>15908</td>\n",
       "    </tr>\n",
       "    <tr>\n",
       "      <th>Wayne</th>\n",
       "      <td>8.4</td>\n",
       "      <td>0.0</td>\n",
       "      <td>8567</td>\n",
       "    </tr>\n",
       "  </tbody>\n",
       "</table>\n",
       "</div>"
      ],
      "text/plain": [
       "                    Ratings  Metascores   Votes\n",
       "Title                                          \n",
       "The Mandalorian         8.7         0.0  220322\n",
       "His Dark Materials      7.9         0.0   42284\n",
       "The Boys                8.7         0.0  218183\n",
       "Dreamland               5.7        57.0    1245\n",
       "Jojo Rabbit             7.9        58.0  278500\n",
       "Servant                 7.6         0.0   15908\n",
       "Wayne                   8.4         0.0    8567"
      ]
     },
     "execution_count": 33,
     "metadata": {},
     "output_type": "execute_result"
    }
   ],
   "source": [
    "imdb7 = imdb.head(7).copy()\n",
    "imdb7"
   ]
  },
  {
   "cell_type": "markdown",
   "metadata": {},
   "source": [
    "Alright! So we know for sure that number `#1` is `The Mandalorian` and number `#7` is `Wayne`.\n",
    "We are most likely to use the plot bar here, thus to make sure the `The Mandalorian` is still at the top, we use this code below :)"
   ]
  },
  {
   "cell_type": "code",
   "execution_count": 34,
   "metadata": {},
   "outputs": [
    {
     "data": {
      "text/html": [
       "<div>\n",
       "<style scoped>\n",
       "    .dataframe tbody tr th:only-of-type {\n",
       "        vertical-align: middle;\n",
       "    }\n",
       "\n",
       "    .dataframe tbody tr th {\n",
       "        vertical-align: top;\n",
       "    }\n",
       "\n",
       "    .dataframe thead th {\n",
       "        text-align: right;\n",
       "    }\n",
       "</style>\n",
       "<table border=\"1\" class=\"dataframe\">\n",
       "  <thead>\n",
       "    <tr style=\"text-align: right;\">\n",
       "      <th></th>\n",
       "      <th>Ratings</th>\n",
       "      <th>Metascores</th>\n",
       "      <th>Votes</th>\n",
       "    </tr>\n",
       "    <tr>\n",
       "      <th>Title</th>\n",
       "      <th></th>\n",
       "      <th></th>\n",
       "      <th></th>\n",
       "    </tr>\n",
       "  </thead>\n",
       "  <tbody>\n",
       "    <tr>\n",
       "      <th>Wayne</th>\n",
       "      <td>8.4</td>\n",
       "      <td>0.0</td>\n",
       "      <td>8567</td>\n",
       "    </tr>\n",
       "    <tr>\n",
       "      <th>Servant</th>\n",
       "      <td>7.6</td>\n",
       "      <td>0.0</td>\n",
       "      <td>15908</td>\n",
       "    </tr>\n",
       "    <tr>\n",
       "      <th>Jojo Rabbit</th>\n",
       "      <td>7.9</td>\n",
       "      <td>58.0</td>\n",
       "      <td>278500</td>\n",
       "    </tr>\n",
       "    <tr>\n",
       "      <th>Dreamland</th>\n",
       "      <td>5.7</td>\n",
       "      <td>57.0</td>\n",
       "      <td>1245</td>\n",
       "    </tr>\n",
       "    <tr>\n",
       "      <th>The Boys</th>\n",
       "      <td>8.7</td>\n",
       "      <td>0.0</td>\n",
       "      <td>218183</td>\n",
       "    </tr>\n",
       "    <tr>\n",
       "      <th>His Dark Materials</th>\n",
       "      <td>7.9</td>\n",
       "      <td>0.0</td>\n",
       "      <td>42284</td>\n",
       "    </tr>\n",
       "    <tr>\n",
       "      <th>The Mandalorian</th>\n",
       "      <td>8.7</td>\n",
       "      <td>0.0</td>\n",
       "      <td>220322</td>\n",
       "    </tr>\n",
       "  </tbody>\n",
       "</table>\n",
       "</div>"
      ],
      "text/plain": [
       "                    Ratings  Metascores   Votes\n",
       "Title                                          \n",
       "Wayne                   8.4         0.0    8567\n",
       "Servant                 7.6         0.0   15908\n",
       "Jojo Rabbit             7.9        58.0  278500\n",
       "Dreamland               5.7        57.0    1245\n",
       "The Boys                8.7         0.0  218183\n",
       "His Dark Materials      7.9         0.0   42284\n",
       "The Mandalorian         8.7         0.0  220322"
      ]
     },
     "execution_count": 34,
     "metadata": {},
     "output_type": "execute_result"
    }
   ],
   "source": [
    "# agar saat di tampilin di plot barh, yang ranking 1 posisinya di paling atas.\n",
    "\n",
    "imdb7 = imdb7[::-1]\n",
    "imdb7"
   ]
  },
  {
   "cell_type": "code",
   "execution_count": 35,
   "metadata": {
    "scrolled": true
   },
   "outputs": [
    {
     "name": "stdout",
     "output_type": "stream",
     "text": [
      "<class 'pandas.core.frame.DataFrame'>\n",
      "Index: 7 entries, Wayne to The Mandalorian\n",
      "Data columns (total 3 columns):\n",
      " #   Column      Non-Null Count  Dtype  \n",
      "---  ------      --------------  -----  \n",
      " 0   Ratings     7 non-null      float64\n",
      " 1   Metascores  7 non-null      float64\n",
      " 2   Votes       7 non-null      int64  \n",
      "dtypes: float64(2), int64(1)\n",
      "memory usage: 224.0+ bytes\n"
     ]
    }
   ],
   "source": [
    "imdb7.info()"
   ]
  },
  {
   "cell_type": "markdown",
   "metadata": {},
   "source": [
    "### How to make the Plot "
   ]
  },
  {
   "cell_type": "markdown",
   "metadata": {},
   "source": [
    "now thanks to `matplotlib` we can make beautiful plot from the dataframe that we have prepared for. We can also change the figure seting, the layout, etcetera. At this case, I wanted to change the style to be `seaborn-dark-palette` and I am going to use the syntax `plt.style.use('__')` to make sure matplotlib understand what I want."
   ]
  },
  {
   "cell_type": "code",
   "execution_count": 36,
   "metadata": {
    "scrolled": true
   },
   "outputs": [],
   "source": [
    "plt.style.use('seaborn-dark-palette')"
   ]
  },
  {
   "cell_type": "markdown",
   "metadata": {},
   "source": [
    "#### Making Ratings plot"
   ]
  },
  {
   "cell_type": "code",
   "execution_count": 37,
   "metadata": {
    "scrolled": true
   },
   "outputs": [
    {
     "data": {
      "text/plain": [
       "Text(0.5, 1.0, 'IMDB Top 7 Films/TV Shows in 2019, Ratings Received')"
      ]
     },
     "execution_count": 37,
     "metadata": {},
     "output_type": "execute_result"
    },
    {
     "data": {
      "image/png": "[encoded data removed]",
      "text/plain": [
       "<Figure size 792x144 with 1 Axes>"
      ]
     },
     "metadata": {
      "needs_background": "light"
     },
     "output_type": "display_data"
    }
   ],
   "source": [
    "top7_r = imdb7['Ratings'].plot.barh(figsize = (11,2))\n",
    "top7_r.set_xlabel('Ratings Counts')\n",
    "top7_r.set_ylabel('Title Name')\n",
    "top7_r.set_title('IMDB Top 7 Films/TV Shows in 2019, Ratings Received')"
   ]
  },
  {
   "cell_type": "markdown",
   "metadata": {},
   "source": [
    "#### Making comparison Ratings and Metascores plot"
   ]
  },
  {
   "cell_type": "code",
   "execution_count": 38,
   "metadata": {
    "scrolled": false
   },
   "outputs": [
    {
     "data": {
      "text/plain": [
       "Text(0.5, 1.0, 'IMDB Top 7 Films/TV Shows in 2019, Ratings and Metascores Received')"
      ]
     },
     "execution_count": 38,
     "metadata": {},
     "output_type": "execute_result"
    },
    {
     "data": {
      "image/png": "[encoded data removed]",
      "text/plain": [
       "<Figure size 792x144 with 1 Axes>"
      ]
     },
     "metadata": {
      "needs_background": "light"
     },
     "output_type": "display_data"
    }
   ],
   "source": [
    "top7_rm = imdb7[['Ratings','Metascores']].plot.barh(figsize = (11,2))\n",
    "top7_rm.set_ylabel('Title Name')\n",
    "top7_rm.set_title('IMDB Top 7 Films/TV Shows in 2019, Ratings and Metascores Received')"
   ]
  },
  {
   "cell_type": "markdown",
   "metadata": {},
   "source": [
    "#### Making the Votes plot"
   ]
  },
  {
   "cell_type": "code",
   "execution_count": 39,
   "metadata": {},
   "outputs": [
    {
     "data": {
      "text/plain": [
       "Text(0.5, 1.0, 'IMDB Top 7 Films/TV Shows in 2019, Votes Received')"
      ]
     },
     "execution_count": 39,
     "metadata": {},
     "output_type": "execute_result"
    },
    {
     "data": {
      "image/png": "[encoded data removed]",
      "text/plain": [
       "<Figure size 792x144 with 1 Axes>"
      ]
     },
     "metadata": {
      "needs_background": "light"
     },
     "output_type": "display_data"
    }
   ],
   "source": [
    "top7_v = imdb7['Votes'].plot.barh(figsize = (11,2))\n",
    "top7_v.set_xlabel('Voters Counts')\n",
    "top7_v.set_ylabel('Title Name')\n",
    "top7_v.set_title('IMDB Top 7 Films/TV Shows in 2019, Votes Received')"
   ]
  },
  {
   "cell_type": "markdown",
   "metadata": {},
   "source": [
    "## Step 6: Implementing your webscrapping to the Flask dashboard\n"
   ]
  },
  {
   "cell_type": "markdown",
   "metadata": {},
   "source": [
    "Wow, we are at the stage where we have to implementing our hardwork to the flaskboard. And how is that? Luckily we are shown and taught how to go from here. So here is what we are going to do:"
   ]
  },
  {
   "cell_type": "markdown",
   "metadata": {},
   "source": [
    "\n",
    "- Copy paste all of our web scrapping process to the desired position on the `app.py`\n",
    "- Changing the title of the dasboard at `index.html`"
   ]
  },
  {
   "cell_type": "code",
   "execution_count": 49,
   "metadata": {},
   "outputs": [],
   "source": [
    "def scrap(url):\n",
    "    #insert the scrapping here\n",
    "    url_get = requests.get('https://www.imdb.com/search/title/?release_date=2019-01-01,2019-12-31')\n",
    "    soup = BeautifulSoup(url_get.content,\"html.parser\")\n",
    "\n",
    "\n",
    "    table = soup.find('div', attrs={'class':'lister list detail sub-list'}) \n",
    "    row = table.find_all('div',attrs={'class':'lister-item mode-advanced'})\n",
    "\n",
    "\n",
    "    temp = [] #initiating a tuple\n",
    "\n",
    "    for i in range(0, len(row)):\n",
    "    \n",
    "        row = table.find_all('div',attrs={'class':'lister-item mode-advanced'})[i]\n",
    "\n",
    "    \n",
    "        judul = row.find('h3', attrs={'class':'lister-item-header'}).find('a').text\n",
    "    \n",
    "        if row.find('div', attrs={'class':'inline-block ratings-metascore'}) is None:\n",
    "            metascores = '0'\n",
    "        elif row.find('div', attrs={'class':'inline-block ratings-metascore'}).find('span').text:\n",
    "            metascores = row.find('div', attrs={'class':'inline-block ratings-metascore'}).find('span').text.strip()\n",
    "    \n",
    "        rating = row.find('div', attrs={'class':'inline-block ratings-imdb-rating'}).find('strong').text\n",
    "    \n",
    "        votes = row.find('p', attrs={'class':'sort-num_votes-visible'}).find('span', attrs={'name':'nv'}).text\n",
    "    \n",
    "        temp.append((judul, rating, metascores, votes))\n",
    "    \n",
    "    temp \n",
    "\n",
    "\n",
    "    #change into dataframe\n",
    "    imdb = pd.DataFrame(temp, columns= ('Title', 'Ratings', 'Metascores', 'Votes'))\n",
    "\n",
    "    #insert data wrangling here\n",
    "    imdb = imdb.set_index('Title')\n",
    "    imdb[['Ratings','Metascores']] = imdb[['Ratings','Metascores']].astype('float64')\n",
    "    imdb['Votes'] = imdb['Votes'].str.replace(',', '')\n",
    "    imdb['Votes'] = imdb['Votes'].astype('int')\n",
    "\n",
    "    imdb7 = imdb.head(7).copy()\n",
    "    imdb7 = imdb7[::-1]\n",
    "\n",
    "    plt.style.use('seaborn-dark-palette')\n",
    "\n",
    "    #end of data wranggling \n",
    "    return imdb"
   ]
  },
  {
   "cell_type": "code",
   "execution_count": 51,
   "metadata": {
    "ExecuteTime": {
     "end_time": "2020-01-13T05:20:56.208237Z",
     "start_time": "2020-01-13T05:20:56.076043Z"
    },
    "scrolled": false
   },
   "outputs": [
    {
     "data": {
      "text/html": [
       "<div>\n",
       "<style scoped>\n",
       "    .dataframe tbody tr th:only-of-type {\n",
       "        vertical-align: middle;\n",
       "    }\n",
       "\n",
       "    .dataframe tbody tr th {\n",
       "        vertical-align: top;\n",
       "    }\n",
       "\n",
       "    .dataframe thead th {\n",
       "        text-align: right;\n",
       "    }\n",
       "</style>\n",
       "<table border=\"1\" class=\"dataframe\">\n",
       "  <thead>\n",
       "    <tr style=\"text-align: right;\">\n",
       "      <th></th>\n",
       "      <th>Ratings</th>\n",
       "      <th>Metascores</th>\n",
       "      <th>Votes</th>\n",
       "    </tr>\n",
       "    <tr>\n",
       "      <th>Title</th>\n",
       "      <th></th>\n",
       "      <th></th>\n",
       "      <th></th>\n",
       "    </tr>\n",
       "  </thead>\n",
       "  <tbody>\n",
       "    <tr>\n",
       "      <th>The Mandalorian</th>\n",
       "      <td>8.7</td>\n",
       "      <td>0.0</td>\n",
       "      <td>220322</td>\n",
       "    </tr>\n",
       "    <tr>\n",
       "      <th>His Dark Materials</th>\n",
       "      <td>7.9</td>\n",
       "      <td>0.0</td>\n",
       "      <td>42284</td>\n",
       "    </tr>\n",
       "    <tr>\n",
       "      <th>The Boys</th>\n",
       "      <td>8.7</td>\n",
       "      <td>0.0</td>\n",
       "      <td>218183</td>\n",
       "    </tr>\n",
       "    <tr>\n",
       "      <th>Dreamland</th>\n",
       "      <td>5.7</td>\n",
       "      <td>57.0</td>\n",
       "      <td>1245</td>\n",
       "    </tr>\n",
       "    <tr>\n",
       "      <th>Jojo Rabbit</th>\n",
       "      <td>7.9</td>\n",
       "      <td>58.0</td>\n",
       "      <td>278500</td>\n",
       "    </tr>\n",
       "    <tr>\n",
       "      <th>Servant</th>\n",
       "      <td>7.6</td>\n",
       "      <td>0.0</td>\n",
       "      <td>15908</td>\n",
       "    </tr>\n",
       "    <tr>\n",
       "      <th>Wayne</th>\n",
       "      <td>8.4</td>\n",
       "      <td>0.0</td>\n",
       "      <td>8567</td>\n",
       "    </tr>\n",
       "    <tr>\n",
       "      <th>The Gentlemen</th>\n",
       "      <td>7.8</td>\n",
       "      <td>51.0</td>\n",
       "      <td>208050</td>\n",
       "    </tr>\n",
       "    <tr>\n",
       "      <th>Undercover</th>\n",
       "      <td>7.9</td>\n",
       "      <td>0.0</td>\n",
       "      <td>9484</td>\n",
       "    </tr>\n",
       "    <tr>\n",
       "      <th>The Witcher</th>\n",
       "      <td>8.2</td>\n",
       "      <td>0.0</td>\n",
       "      <td>282826</td>\n",
       "    </tr>\n",
       "    <tr>\n",
       "      <th>Knives Out</th>\n",
       "      <td>7.9</td>\n",
       "      <td>82.0</td>\n",
       "      <td>420096</td>\n",
       "    </tr>\n",
       "    <tr>\n",
       "      <th>Gisaengchung</th>\n",
       "      <td>8.6</td>\n",
       "      <td>96.0</td>\n",
       "      <td>512951</td>\n",
       "    </tr>\n",
       "    <tr>\n",
       "      <th>Once Upon a Time... in Hollywood</th>\n",
       "      <td>7.6</td>\n",
       "      <td>83.0</td>\n",
       "      <td>531204</td>\n",
       "    </tr>\n",
       "    <tr>\n",
       "      <th>Joker</th>\n",
       "      <td>8.5</td>\n",
       "      <td>59.0</td>\n",
       "      <td>901088</td>\n",
       "    </tr>\n",
       "    <tr>\n",
       "      <th>Avengers: Endgame</th>\n",
       "      <td>8.4</td>\n",
       "      <td>78.0</td>\n",
       "      <td>782959</td>\n",
       "    </tr>\n",
       "    <tr>\n",
       "      <th>Sex Education</th>\n",
       "      <td>8.3</td>\n",
       "      <td>0.0</td>\n",
       "      <td>149181</td>\n",
       "    </tr>\n",
       "    <tr>\n",
       "      <th>Euphoria</th>\n",
       "      <td>8.4</td>\n",
       "      <td>0.0</td>\n",
       "      <td>53697</td>\n",
       "    </tr>\n",
       "    <tr>\n",
       "      <th>Warrior</th>\n",
       "      <td>8.2</td>\n",
       "      <td>0.0</td>\n",
       "      <td>13240</td>\n",
       "    </tr>\n",
       "    <tr>\n",
       "      <th>1917</th>\n",
       "      <td>8.3</td>\n",
       "      <td>78.0</td>\n",
       "      <td>393895</td>\n",
       "    </tr>\n",
       "    <tr>\n",
       "      <th>Midsommar</th>\n",
       "      <td>7.1</td>\n",
       "      <td>72.0</td>\n",
       "      <td>191158</td>\n",
       "    </tr>\n",
       "    <tr>\n",
       "      <th>Chernobyl</th>\n",
       "      <td>9.4</td>\n",
       "      <td>0.0</td>\n",
       "      <td>513961</td>\n",
       "    </tr>\n",
       "    <tr>\n",
       "      <th>Doctor Sleep</th>\n",
       "      <td>7.3</td>\n",
       "      <td>59.0</td>\n",
       "      <td>136023</td>\n",
       "    </tr>\n",
       "    <tr>\n",
       "      <th>Star Wars: Episode IX - The Rise of Skywalker</th>\n",
       "      <td>6.6</td>\n",
       "      <td>53.0</td>\n",
       "      <td>359422</td>\n",
       "    </tr>\n",
       "    <tr>\n",
       "      <th>The Unicorn</th>\n",
       "      <td>7.2</td>\n",
       "      <td>0.0</td>\n",
       "      <td>2678</td>\n",
       "    </tr>\n",
       "    <tr>\n",
       "      <th>The Dead Don't Die</th>\n",
       "      <td>5.5</td>\n",
       "      <td>53.0</td>\n",
       "      <td>50519</td>\n",
       "    </tr>\n",
       "    <tr>\n",
       "      <th>The Spanish Princess</th>\n",
       "      <td>6.8</td>\n",
       "      <td>0.0</td>\n",
       "      <td>4292</td>\n",
       "    </tr>\n",
       "    <tr>\n",
       "      <th>The Morning Show</th>\n",
       "      <td>8.4</td>\n",
       "      <td>0.0</td>\n",
       "      <td>45879</td>\n",
       "    </tr>\n",
       "    <tr>\n",
       "      <th>Virgin River</th>\n",
       "      <td>7.5</td>\n",
       "      <td>0.0</td>\n",
       "      <td>12229</td>\n",
       "    </tr>\n",
       "    <tr>\n",
       "      <th>The Irishman</th>\n",
       "      <td>7.9</td>\n",
       "      <td>94.0</td>\n",
       "      <td>314632</td>\n",
       "    </tr>\n",
       "    <tr>\n",
       "      <th>After</th>\n",
       "      <td>5.3</td>\n",
       "      <td>30.0</td>\n",
       "      <td>35160</td>\n",
       "    </tr>\n",
       "    <tr>\n",
       "      <th>Cats</th>\n",
       "      <td>2.8</td>\n",
       "      <td>32.0</td>\n",
       "      <td>39357</td>\n",
       "    </tr>\n",
       "    <tr>\n",
       "      <th>Little Women</th>\n",
       "      <td>7.8</td>\n",
       "      <td>91.0</td>\n",
       "      <td>132780</td>\n",
       "    </tr>\n",
       "    <tr>\n",
       "      <th>Jungleland</th>\n",
       "      <td>6.2</td>\n",
       "      <td>53.0</td>\n",
       "      <td>1299</td>\n",
       "    </tr>\n",
       "    <tr>\n",
       "      <th>Uncut Gems</th>\n",
       "      <td>7.4</td>\n",
       "      <td>91.0</td>\n",
       "      <td>210382</td>\n",
       "    </tr>\n",
       "    <tr>\n",
       "      <th>Bombshell</th>\n",
       "      <td>6.8</td>\n",
       "      <td>64.0</td>\n",
       "      <td>79941</td>\n",
       "    </tr>\n",
       "    <tr>\n",
       "      <th>Evil</th>\n",
       "      <td>7.6</td>\n",
       "      <td>0.0</td>\n",
       "      <td>10829</td>\n",
       "    </tr>\n",
       "    <tr>\n",
       "      <th>The Lighthouse</th>\n",
       "      <td>7.5</td>\n",
       "      <td>83.0</td>\n",
       "      <td>133401</td>\n",
       "    </tr>\n",
       "    <tr>\n",
       "      <th>Buddy Games</th>\n",
       "      <td>5.1</td>\n",
       "      <td>22.0</td>\n",
       "      <td>632</td>\n",
       "    </tr>\n",
       "    <tr>\n",
       "      <th>Dark Waters</th>\n",
       "      <td>7.6</td>\n",
       "      <td>73.0</td>\n",
       "      <td>52899</td>\n",
       "    </tr>\n",
       "    <tr>\n",
       "      <th>Ford v Ferrari</th>\n",
       "      <td>8.1</td>\n",
       "      <td>81.0</td>\n",
       "      <td>275223</td>\n",
       "    </tr>\n",
       "    <tr>\n",
       "      <th>Watchmen</th>\n",
       "      <td>8.1</td>\n",
       "      <td>0.0</td>\n",
       "      <td>86091</td>\n",
       "    </tr>\n",
       "    <tr>\n",
       "      <th>Doom Patrol</th>\n",
       "      <td>7.9</td>\n",
       "      <td>0.0</td>\n",
       "      <td>32337</td>\n",
       "    </tr>\n",
       "    <tr>\n",
       "      <th>What We Do in the Shadows</th>\n",
       "      <td>8.5</td>\n",
       "      <td>0.0</td>\n",
       "      <td>33408</td>\n",
       "    </tr>\n",
       "    <tr>\n",
       "      <th>Motherless Brooklyn</th>\n",
       "      <td>6.8</td>\n",
       "      <td>60.0</td>\n",
       "      <td>39685</td>\n",
       "    </tr>\n",
       "    <tr>\n",
       "      <th>Terminator: Dark Fate</th>\n",
       "      <td>6.2</td>\n",
       "      <td>54.0</td>\n",
       "      <td>144407</td>\n",
       "    </tr>\n",
       "    <tr>\n",
       "      <th>Jumanji: The Next Level</th>\n",
       "      <td>6.7</td>\n",
       "      <td>58.0</td>\n",
       "      <td>179941</td>\n",
       "    </tr>\n",
       "    <tr>\n",
       "      <th>The Peanut Butter Falcon</th>\n",
       "      <td>7.6</td>\n",
       "      <td>70.0</td>\n",
       "      <td>60799</td>\n",
       "    </tr>\n",
       "    <tr>\n",
       "      <th>See</th>\n",
       "      <td>7.6</td>\n",
       "      <td>0.0</td>\n",
       "      <td>39018</td>\n",
       "    </tr>\n",
       "    <tr>\n",
       "      <th>Glass</th>\n",
       "      <td>6.7</td>\n",
       "      <td>43.0</td>\n",
       "      <td>203325</td>\n",
       "    </tr>\n",
       "    <tr>\n",
       "      <th>Epidemiya</th>\n",
       "      <td>7.3</td>\n",
       "      <td>0.0</td>\n",
       "      <td>6786</td>\n",
       "    </tr>\n",
       "  </tbody>\n",
       "</table>\n",
       "</div>"
      ],
      "text/plain": [
       "                                               Ratings  Metascores   Votes\n",
       "Title                                                                     \n",
       "The Mandalorian                                    8.7         0.0  220322\n",
       "His Dark Materials                                 7.9         0.0   42284\n",
       "The Boys                                           8.7         0.0  218183\n",
       "Dreamland                                          5.7        57.0    1245\n",
       "Jojo Rabbit                                        7.9        58.0  278500\n",
       "Servant                                            7.6         0.0   15908\n",
       "Wayne                                              8.4         0.0    8567\n",
       "The Gentlemen                                      7.8        51.0  208050\n",
       "Undercover                                         7.9         0.0    9484\n",
       "The Witcher                                        8.2         0.0  282826\n",
       "Knives Out                                         7.9        82.0  420096\n",
       "Gisaengchung                                       8.6        96.0  512951\n",
       "Once Upon a Time... in Hollywood                   7.6        83.0  531204\n",
       "Joker                                              8.5        59.0  901088\n",
       "Avengers: Endgame                                  8.4        78.0  782959\n",
       "Sex Education                                      8.3         0.0  149181\n",
       "Euphoria                                           8.4         0.0   53697\n",
       "Warrior                                            8.2         0.0   13240\n",
       "1917                                               8.3        78.0  393895\n",
       "Midsommar                                          7.1        72.0  191158\n",
       "Chernobyl                                          9.4         0.0  513961\n",
       "Doctor Sleep                                       7.3        59.0  136023\n",
       "Star Wars: Episode IX - The Rise of Skywalker      6.6        53.0  359422\n",
       "The Unicorn                                        7.2         0.0    2678\n",
       "The Dead Don't Die                                 5.5        53.0   50519\n",
       "The Spanish Princess                               6.8         0.0    4292\n",
       "The Morning Show                                   8.4         0.0   45879\n",
       "Virgin River                                       7.5         0.0   12229\n",
       "The Irishman                                       7.9        94.0  314632\n",
       "After                                              5.3        30.0   35160\n",
       "Cats                                               2.8        32.0   39357\n",
       "Little Women                                       7.8        91.0  132780\n",
       "Jungleland                                         6.2        53.0    1299\n",
       "Uncut Gems                                         7.4        91.0  210382\n",
       "Bombshell                                          6.8        64.0   79941\n",
       "Evil                                               7.6         0.0   10829\n",
       "The Lighthouse                                     7.5        83.0  133401\n",
       "Buddy Games                                        5.1        22.0     632\n",
       "Dark Waters                                        7.6        73.0   52899\n",
       "Ford v Ferrari                                     8.1        81.0  275223\n",
       "Watchmen                                           8.1         0.0   86091\n",
       "Doom Patrol                                        7.9         0.0   32337\n",
       "What We Do in the Shadows                          8.5         0.0   33408\n",
       "Motherless Brooklyn                                6.8        60.0   39685\n",
       "Terminator: Dark Fate                              6.2        54.0  144407\n",
       "Jumanji: The Next Level                            6.7        58.0  179941\n",
       "The Peanut Butter Falcon                           7.6        70.0   60799\n",
       "See                                                7.6         0.0   39018\n",
       "Glass                                              6.7        43.0  203325\n",
       "Epidemiya                                          7.3         0.0    6786"
      ]
     },
     "execution_count": 51,
     "metadata": {},
     "output_type": "execute_result"
    }
   ],
   "source": [
    "imdb = scrap('https://www.imdb.com/search/title/?release_date=2019-01-01,2019-12-31')\n",
    "imdb"
   ]
  },
  {
   "cell_type": "markdown",
   "metadata": {},
   "source": [
    "# Finishing This Notebook with Your Analysis and Conclusion\n",
    "\n"
   ]
  },
  {
   "cell_type": "markdown",
   "metadata": {},
   "source": [
    "## Popularity - Ratings"
   ]
  },
  {
   "cell_type": "code",
   "execution_count": 53,
   "metadata": {
    "scrolled": false
   },
   "outputs": [
    {
     "data": {
      "text/plain": [
       "Text(0.5, 1.0, 'IMDB Top 7 Films/TV Shows in 2019, Ratings Received')"
      ]
     },
     "execution_count": 53,
     "metadata": {},
     "output_type": "execute_result"
    },
    {
     "data": {
      "image/png": "[encoded data removed]",
      "text/plain": [
       "<Figure size 792x144 with 1 Axes>"
      ]
     },
     "metadata": {
      "needs_background": "light"
     },
     "output_type": "display_data"
    }
   ],
   "source": [
    "top7_r = imdb7['Ratings'].plot.barh(figsize = (11,2))\n",
    "top7_r.set_xlabel('Ratings Counts')\n",
    "top7_r.set_ylabel('Title Name')\n",
    "top7_r.set_title('IMDB Top 7 Films/TV Shows in 2019, Ratings Received')"
   ]
  },
  {
   "cell_type": "markdown",
   "metadata": {},
   "source": [
    "As we know, the Top 7 Film/TV Shows released in 2019 according to IMDB, sorted by popularity, has \"The Mandalorian\" as the most popular Film/TV Shows, and \"Wayne\" as the least popular out of the seven. \n",
    "\n",
    "\n",
    "The bar graph above shows the the rating counts (out of 10), according to IMDB's rating. \n",
    "From the plot bar above, we can see that both \"The Mandalorian\" and \"The Boys\" received the highest ratings, followed by \"Wayne\", then both \"His Dark Materials\" and \"Jojo Rabbit\", then \"Servant\" and the lowest rating which is \"Dreamland\". \n",
    "\n",
    "\n",
    "As we compare these facts to the popularity scale, it can be seen that actually the popularity of a film does not determined whether the ratings received are the highest of them all. In this case both \"The Mandalorian\", which is ranking number 1, and \"The Boys\" that is ranking number 3 received the highest ratings. \"The Boys\" beat \"His Dark Materials\" which is shown as number two in the ranking. \n",
    "\n",
    "\n",
    "Knowing these facts, we wanted to know whether they all are received High metascores. Want to know more? click the \"Ratings and Metascores\" tab!"
   ]
  },
  {
   "cell_type": "markdown",
   "metadata": {},
   "source": [
    "## Popularity - Ratings and Metascores"
   ]
  },
  {
   "cell_type": "code",
   "execution_count": 55,
   "metadata": {
    "scrolled": true
   },
   "outputs": [
    {
     "data": {
      "text/plain": [
       "Text(0.5, 1.0, 'IMDB Top 7 Films/TV Shows in 2019, Ratings and Metascores Received')"
      ]
     },
     "execution_count": 55,
     "metadata": {},
     "output_type": "execute_result"
    },
    {
     "data": {
      "image/png": "[encoded data removed]",
      "text/plain": [
       "<Figure size 792x144 with 1 Axes>"
      ]
     },
     "metadata": {
      "needs_background": "light"
     },
     "output_type": "display_data"
    }
   ],
   "source": [
    "top7_rm = imdb7[['Ratings','Metascores']].plot.barh(figsize = (11,2))\n",
    "top7_rm.set_ylabel('Title Name')\n",
    "top7_rm.set_title('IMDB Top 7 Films/TV Shows in 2019, Ratings and Metascores Received')"
   ]
  },
  {
   "cell_type": "markdown",
   "metadata": {},
   "source": [
    "Here we want to compare these Films/TV Shows on how they score for the Metascores. A brief summary, Metascore is a scoring system provided by Metacritics, a website that aggregates that reviews Films, TV Shows, Books, etc. Generally, if a Film/TV Shows/Music receive a 61-80, this means that the object received generally favorable reviews and if they got 81-100 that means it is \"universal acclaim\" that it is a good Film/TV Shows/Music. \n",
    "\n",
    "Here in the plot you can see that only 2 Films receive metascores, and they are both in the range 55-60. Remember \"The Mandalorian\" and \"The Boys, which received the highest ratings out of the other seven, they haven't received any metascores yet! Surprise Surprise!"
   ]
  },
  {
   "cell_type": "markdown",
   "metadata": {},
   "source": [
    "## Popularity - Voters"
   ]
  },
  {
   "cell_type": "code",
   "execution_count": 54,
   "metadata": {
    "scrolled": false
   },
   "outputs": [
    {
     "data": {
      "text/plain": [
       "Text(0.5, 1.0, 'IMDB Top 7 Films/TV Shows in 2019, Votes Received')"
      ]
     },
     "execution_count": 54,
     "metadata": {},
     "output_type": "execute_result"
    },
    {
     "data": {
      "image/png": "[encoded data removed]",
      "text/plain": [
       "<Figure size 792x144 with 1 Axes>"
      ]
     },
     "metadata": {
      "needs_background": "light"
     },
     "output_type": "display_data"
    }
   ],
   "source": [
    "top7_v = imdb7['Votes'].plot.barh(figsize = (11,2))\n",
    "top7_v.set_xlabel('Voters Counts')\n",
    "top7_v.set_ylabel('Title Name')\n",
    "top7_v.set_title('IMDB Top 7 Films/TV Shows in 2019, Votes Received')"
   ]
  },
  {
   "cell_type": "markdown",
   "metadata": {},
   "source": [
    "On the plot above we can see how many people voted for the Films/TV Shows. It can be seen that \"Jojo Rabbit\" received the highest voters of them all and \"Dreamland\" received the least! "
   ]
  }
 ],
 "metadata": {
  "kernelspec": {
   "display_name": "Capstone_DAS",
   "language": "python",
   "name": "python3"
  },
  "language_info": {
   "codemirror_mode": {
    "name": "ipython",
    "version": 3
   },
   "file_extension": ".py",
   "mimetype": "text/x-python",
   "name": "python",
   "nbconvert_exporter": "python",
   "pygments_lexer": "ipython3",
   "version": "3.9.0"
  },
  "toc": {
   "base_numbering": 1,
   "nav_menu": {},
   "number_sections": true,
   "sideBar": true,
   "skip_h1_title": false,
   "title_cell": "Table of Contents",
   "title_sidebar": "Contents",
   "toc_cell": false,
   "toc_position": {
    "height": "calc(100% - 180px)",
    "left": "10px",
    "top": "150px",
    "width": "320px"
   },
   "toc_section_display": true,
   "toc_window_display": true
  }
 },
 "nbformat": 4,
 "nbformat_minor": 2
}
